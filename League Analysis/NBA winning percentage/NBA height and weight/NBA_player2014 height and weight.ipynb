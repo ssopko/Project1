{
 "cells": [
  {
   "cell_type": "code",
   "execution_count": 1,
   "metadata": {},
   "outputs": [],
   "source": [
    "import csv\n",
    "import matplotlib.pyplot as plt\n",
    "import openweathermapy as ow\n",
    "import pandas as pd\n",
    "import requests\n",
    "import json\n",
    "import numpy as np\n",
    "from pandas import DataFrame"
   ]
  },
  {
   "cell_type": "code",
   "execution_count": 2,
   "metadata": {},
   "outputs": [],
   "source": [
    "url = \"http://data.nba.net/10s/prod/v1/2014/players.json\"\n",
    "response  = requests.get(url)\n",
    "data = response.json()\n",
    "data_playerinfo = data['league']['standard']\n",
    "df = DataFrame(data_playerinfo)"
   ]
  },
  {
   "cell_type": "code",
   "execution_count": 3,
   "metadata": {},
   "outputs": [
    {
     "data": {
      "text/plain": [
       "pos\n",
       "C      2.120000\n",
       "C-F    2.048333\n",
       "F      2.048333\n",
       "F-C    2.083333\n",
       "F-G    2.026667\n",
       "G      1.914444\n",
       "G-F    1.993333\n",
       "Name: heightMeters, dtype: float64"
      ]
     },
     "execution_count": 3,
     "metadata": {},
     "output_type": "execute_result"
    }
   ],
   "source": [
    "df[\"heightMeters\"] = pd.to_numeric(df[\"heightMeters\"], errors = \"coerce\")\n",
    "df.dropna(subset=[\"pos\"])\n",
    "height_group = df.groupby(\"pos\")\n",
    "count_height_group  = height_group[\"heightMeters\"].mean()\n",
    "count_height_group"
   ]
  },
  {
   "cell_type": "code",
   "execution_count": 5,
   "metadata": {},
   "outputs": [
    {
     "data": {
      "text/plain": [
       "pos\n",
       "C      114.442857\n",
       "C-F    113.400000\n",
       "F      103.041667\n",
       "F-C    119.216667\n",
       "F-G    101.600000\n",
       "G       88.625926\n",
       "G-F     97.200000\n",
       "Name: weightKilograms, dtype: float64"
      ]
     },
     "execution_count": 5,
     "metadata": {},
     "output_type": "execute_result"
    }
   ],
   "source": [
    "df[\"weightKilograms\"] = pd.to_numeric(df[\"weightKilograms\"], errors = \"coerce\")\n",
    "df.dropna(subset=[\"pos\"])\n",
    "weight_group = df.groupby(\"pos\")\n",
    "count_weight_group  = weight_group[\"weightKilograms\"].mean()\n",
    "count_weight_group"
   ]
  }
 ],
 "metadata": {
  "kernelspec": {
   "display_name": "Python 3",
   "language": "python",
   "name": "python3"
  },
  "language_info": {
   "codemirror_mode": {
    "name": "ipython",
    "version": 3
   },
   "file_extension": ".py",
   "mimetype": "text/x-python",
   "name": "python",
   "nbconvert_exporter": "python",
   "pygments_lexer": "ipython3",
   "version": "3.7.0"
  }
 },
 "nbformat": 4,
 "nbformat_minor": 2
}

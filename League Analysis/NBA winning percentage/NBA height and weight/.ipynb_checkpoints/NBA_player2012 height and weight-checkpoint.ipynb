{
 "cells": [
  {
   "cell_type": "code",
   "execution_count": 1,
   "metadata": {},
   "outputs": [],
   "source": [
    "import matplotlib.pyplot as plt\n",
    "import openweathermapy as ow\n",
    "import pandas as pd\n",
    "import requests\n",
    "import json\n",
    "import numpy as np\n",
    "from pandas import DataFrame"
   ]
  },
  {
   "cell_type": "code",
   "execution_count": 2,
   "metadata": {},
   "outputs": [],
   "source": [
    "url = \"http://data.nba.net/10s/prod/v1/2012/players.json\"\n",
    "response  = requests.get(url)\n",
    "data = response.json()\n",
    "data_playerinfo = data['league']['standard']\n",
    "df = DataFrame(data_playerinfo)"
   ]
  },
  {
   "cell_type": "code",
   "execution_count": 3,
   "metadata": {},
   "outputs": [
    {
     "data": {
      "text/plain": [
       "pos\n",
       "C      2.124000\n",
       "C-F    2.110000\n",
       "F      2.038800\n",
       "F-C    2.095000\n",
       "F-G    1.970000\n",
       "G      1.912143\n",
       "G-F    1.998333\n",
       "Name: heightMeters, dtype: float64"
      ]
     },
     "execution_count": 3,
     "metadata": {},
     "output_type": "execute_result"
    }
   ],
   "source": [
    "df[\"heightMeters\"] = pd.to_numeric(df[\"heightMeters\"], errors = \"coerce\")\n",
    "df.dropna(subset=[\"pos\"])\n",
    "height_group = df.groupby(\"pos\")\n",
    "count_height_group  = height_group[\"heightMeters\"].mean()\n",
    "count_height_group"
   ]
  },
  {
   "cell_type": "code",
   "execution_count": 4,
   "metadata": {},
   "outputs": [
    {
     "data": {
      "text/plain": [
       "2.0012"
      ]
     },
     "execution_count": 4,
     "metadata": {},
     "output_type": "execute_result"
    }
   ],
   "source": [
    "df[\"heightMeters\"].mean()"
   ]
  }
 ],
 "metadata": {
  "kernelspec": {
   "display_name": "Python 3",
   "language": "python",
   "name": "python3"
  },
  "language_info": {
   "codemirror_mode": {
    "name": "ipython",
    "version": 3
   },
   "file_extension": ".py",
   "mimetype": "text/x-python",
   "name": "python",
   "nbconvert_exporter": "python",
   "pygments_lexer": "ipython3",
   "version": "3.7.0"
  }
 },
 "nbformat": 4,
 "nbformat_minor": 2
}

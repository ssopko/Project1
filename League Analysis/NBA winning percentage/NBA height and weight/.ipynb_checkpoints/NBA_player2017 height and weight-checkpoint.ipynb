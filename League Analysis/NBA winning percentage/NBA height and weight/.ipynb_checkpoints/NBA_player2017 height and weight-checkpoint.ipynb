{
 "cells": [
  {
   "cell_type": "code",
   "execution_count": 1,
   "metadata": {},
   "outputs": [],
   "source": [
    "import csv\n",
    "import matplotlib.pyplot as plt\n",
    "import openweathermapy as ow\n",
    "import pandas as pd\n",
    "import requests\n",
    "import json\n",
    "import numpy as np\n",
    "from pandas import DataFrame"
   ]
  },
  {
   "cell_type": "code",
   "execution_count": 2,
   "metadata": {},
   "outputs": [],
   "source": [
    "url = \"http://data.nba.net/10s/prod/v1/2017/players.json\"\n",
    "response  = requests.get(url)\n",
    "data = response.json()\n"
   ]
  },
  {
   "cell_type": "code",
   "execution_count": 3,
   "metadata": {},
   "outputs": [],
   "source": [
    "data_playerinfo = data['league']['standard']"
   ]
  },
  {
   "cell_type": "code",
   "execution_count": 5,
   "metadata": {},
   "outputs": [],
   "source": [
    "df = DataFrame(data_playerinfo)"
   ]
  },
  {
   "cell_type": "code",
   "execution_count": 6,
   "metadata": {},
   "outputs": [
    {
     "data": {
      "text/plain": [
       "pos\n",
       "            NaN\n",
       "C      2.121452\n",
       "C-F    2.092174\n",
       "F      2.044855\n",
       "F-C    2.091034\n",
       "F-G    1.996957\n",
       "G      1.919077\n",
       "G-F    1.992857\n",
       "GF          NaN\n",
       "PG          NaN\n",
       "Name: heightMeters, dtype: float64"
      ]
     },
     "execution_count": 6,
     "metadata": {},
     "output_type": "execute_result"
    }
   ],
   "source": [
    "df[\"heightMeters\"] = pd.to_numeric(df[\"heightMeters\"], errors = \"coerce\")\n",
    "df.dropna(subset=[\"pos\"])\n",
    "height_group = df.groupby(\"pos\")\n",
    "count_height_group  = height_group[\"heightMeters\"].mean()\n",
    "count_height_group"
   ]
  },
  {
   "cell_type": "code",
   "execution_count": 7,
   "metadata": {},
   "outputs": [
    {
     "data": {
      "text/plain": [
       "pos\n",
       "              NaN\n",
       "C      114.435484\n",
       "C-F    111.434783\n",
       "F      102.913768\n",
       "F-C    110.110345\n",
       "F-G     97.365217\n",
       "G       88.592821\n",
       "G-F     95.620000\n",
       "GF            NaN\n",
       "PG            NaN\n",
       "Name: weightKilograms, dtype: float64"
      ]
     },
     "execution_count": 7,
     "metadata": {},
     "output_type": "execute_result"
    }
   ],
   "source": [
    "df[\"weightKilograms\"] = pd.to_numeric(df[\"weightKilograms\"], errors = \"coerce\")\n",
    "df.dropna(subset=[\"pos\"])\n",
    "weight_group = df.groupby(\"pos\")\n",
    "count_weight_group  = weight_group[\"weightKilograms\"].mean()\n",
    "count_weight_group"
   ]
  }
 ],
 "metadata": {
  "kernelspec": {
   "display_name": "Python 3",
   "language": "python",
   "name": "python3"
  },
  "language_info": {
   "codemirror_mode": {
    "name": "ipython",
    "version": 3
   },
   "file_extension": ".py",
   "mimetype": "text/x-python",
   "name": "python",
   "nbconvert_exporter": "python",
   "pygments_lexer": "ipython3",
   "version": "3.7.0"
  }
 },
 "nbformat": 4,
 "nbformat_minor": 2
}

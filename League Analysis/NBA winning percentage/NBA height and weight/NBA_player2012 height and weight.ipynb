{
 "cells": [
  {
   "cell_type": "code",
   "execution_count": 5,
   "metadata": {},
   "outputs": [],
   "source": [
    "import matplotlib.pyplot as plt\n",
    "import openweathermapy as ow\n",
    "import pandas as pd\n",
    "import requests\n",
    "import json\n",
    "import numpy as np\n",
    "from pandas import DataFrame"
   ]
  },
  {
   "cell_type": "code",
   "execution_count": 6,
   "metadata": {},
   "outputs": [],
   "source": [
    "url = \"http://data.nba.net/10s/prod/v1/2012/players.json\"\n",
    "response  = requests.get(url)\n",
    "data = response.json()\n",
    "data_playerinfo = data['league']['standard']\n",
    "df = DataFrame(data_playerinfo)"
   ]
  },
  {
   "cell_type": "code",
   "execution_count": 7,
   "metadata": {},
   "outputs": [
    {
     "data": {
      "text/plain": [
       "pos\n",
       "C      2.124000\n",
       "C-F    2.110000\n",
       "F      2.038800\n",
       "F-C    2.095000\n",
       "F-G    1.970000\n",
       "G      1.912143\n",
       "G-F    1.998333\n",
       "Name: heightMeters, dtype: float64"
      ]
     },
     "execution_count": 7,
     "metadata": {},
     "output_type": "execute_result"
    }
   ],
   "source": [
    "df[\"heightMeters\"] = pd.to_numeric(df[\"heightMeters\"], errors = \"coerce\")\n",
    "df.dropna(subset=[\"pos\"])\n",
    "height_group = df.groupby(\"pos\")\n",
    "count_height_group  = height_group[\"heightMeters\"].mean()\n",
    "count_height_group"
   ]
  },
  {
   "cell_type": "code",
   "execution_count": 8,
   "metadata": {},
   "outputs": [
    {
     "data": {
      "text/plain": [
       "pos\n",
       "C      117.070000\n",
       "C-F    112.300000\n",
       "F      104.276000\n",
       "F-C    109.550000\n",
       "F-G    100.500000\n",
       "G       88.746429\n",
       "G-F    102.066667\n",
       "Name: weightKilograms, dtype: float64"
      ]
     },
     "execution_count": 8,
     "metadata": {},
     "output_type": "execute_result"
    }
   ],
   "source": [
    "df[\"weightKilograms\"] = pd.to_numeric(df[\"weightKilograms\"], errors = \"coerce\")\n",
    "df.dropna(subset=[\"pos\"])\n",
    "weight_group = df.groupby(\"pos\")\n",
    "count_weight_group  = weight_group[\"weightKilograms\"].mean()\n",
    "count_weight_group"
   ]
  }
 ],
 "metadata": {
  "kernelspec": {
   "display_name": "Python 3",
   "language": "python",
   "name": "python3"
  },
  "language_info": {
   "codemirror_mode": {
    "name": "ipython",
    "version": 3
   },
   "file_extension": ".py",
   "mimetype": "text/x-python",
   "name": "python",
   "nbconvert_exporter": "python",
   "pygments_lexer": "ipython3",
   "version": "3.7.0"
  }
 },
 "nbformat": 4,
 "nbformat_minor": 2
}
